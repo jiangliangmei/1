{
 "cells": [
  {
   "cell_type": "code",
   "execution_count": 1,
   "id": "9eea87db-69eb-432d-8179-e6d91bd845f1",
   "metadata": {},
   "outputs": [
    {
     "name": "stdout",
     "output_type": "stream",
     "text": [
      "数组A：\n",
      "[[1 2]\n",
      " [3 4]\n",
      " [5 6]]\n",
      "数组B：\n",
      "[10 20]\n",
      "\n",
      "任务1：A和B逐元素相加结果：\n",
      "[[11 22]\n",
      " [13 24]\n",
      " [15 26]]\n",
      "\n",
      "任务2：A和B逐元素相乘结果：\n",
      "[[ 10  40]\n",
      " [ 30  80]\n",
      " [ 50 120]]\n",
      "\n",
      "任务3：A的每一行与B的点积结果：\n",
      "[ 50 110 170]\n"
     ]
    }
   ],
   "source": [
    "import numpy as np\n",
    "\n",
    "# 创建数组A：3x2的二维数组，元素为1到6\n",
    "array_a = np.arange(1, 7).reshape(3, 2)\n",
    "# 创建数组B：一维数组，元素为[10, 20]\n",
    "array_b = np.array([10, 20])\n",
    "\n",
    "print(\"数组A：\")\n",
    "print(array_a)\n",
    "print(\"数组B：\")\n",
    "print(array_b)\n",
    "\n",
    "# 1. 计算A和B的逐元素相加（利用广播）\n",
    "add_result = array_a + array_b\n",
    "print(\"\\n任务1：A和B逐元素相加结果：\")\n",
    "print(add_result)\n",
    "\n",
    "# 2. 计算A和B的逐元素相乘（利用广播）\n",
    "multiply_result = array_a * array_b\n",
    "print(\"\\n任务2：A和B逐元素相乘结果：\")\n",
    "print(multiply_result)\n",
    "\n",
    "# 3. 计算A的每一行与B的点积\n",
    "dot_result = np.dot(array_a, array_b)\n",
    "print(\"\\n任务3：A的每一行与B的点积结果：\")\n",
    "print(dot_result)"
   ]
  },
  {
   "cell_type": "code",
   "execution_count": null,
   "id": "1b988d7d-3944-4733-8ba7-7efcbcbf6a5c",
   "metadata": {},
   "outputs": [],
   "source": []
  }
 ],
 "metadata": {
  "kernelspec": {
   "display_name": "Python 3 (ipykernel)",
   "language": "python",
   "name": "python3"
  },
  "language_info": {
   "codemirror_mode": {
    "name": "ipython",
    "version": 3
   },
   "file_extension": ".py",
   "mimetype": "text/x-python",
   "name": "python",
   "nbconvert_exporter": "python",
   "pygments_lexer": "ipython3",
   "version": "3.9.9"
  }
 },
 "nbformat": 4,
 "nbformat_minor": 5
}
