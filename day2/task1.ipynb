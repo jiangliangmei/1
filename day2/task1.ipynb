{
 "cells": [
  {
   "cell_type": "code",
   "execution_count": 1,
   "id": "04c05013-0473-42be-af66-5576d0c2f26b",
   "metadata": {},
   "outputs": [
    {
     "name": "stdout",
     "output_type": "stream",
     "text": [
      "原始数组：\n",
      "[[ 1  2  3  4]\n",
      " [ 5  6  7  8]\n",
      " [ 9 10 11 12]]\n",
      "形状：(3, 4)\n",
      "维度：2\n",
      "数据类型：int32\n",
      "\n",
      "乘以2后的数组：\n",
      "[[ 2  4  6  8]\n",
      " [10 12 14 16]\n",
      " [18 20 22 24]]\n",
      "\n",
      "重塑为4x3后的数组：\n",
      "[[ 1  2  3]\n",
      " [ 4  5  6]\n",
      " [ 7  8  9]\n",
      " [10 11 12]]\n"
     ]
    }
   ],
   "source": [
    "import numpy as np\n",
    "\n",
    "# 创建3x4的二维数组，元素为1到12\n",
    "arr = np.arange(1, 13).reshape(3, 4)\n",
    "\n",
    "# 1. 打印数组的形状、维度和数据类型\n",
    "print(\"原始数组：\")\n",
    "print(arr)\n",
    "print(f\"形状：{arr.shape}\")\n",
    "print(f\"维度：{arr.ndim}\")\n",
    "print(f\"数据类型：{arr.dtype}\")\n",
    "\n",
    "# 2. 将数组元素乘以2\n",
    "arr_x2 = arr * 2\n",
    "print(\"\\n乘以2后的数组：\")\n",
    "print(arr_x2)\n",
    "\n",
    "# 3. 将数组重塑为4x3的形状\n",
    "arr_reshaped = arr.reshape(4, 3)\n",
    "print(\"\\n重塑为4x3后的数组：\")\n",
    "print(arr_reshaped)"
   ]
  },
  {
   "cell_type": "code",
   "id": "306eb938-048c-4833-958b-4e44c5455207",
   "metadata": {
    "jupyter": {
     "is_executing": true
    }
   },
   "source": [
    "import numpy as np\n",
    "\n",
    "# 定义 4x4 数组\n",
    "array = np.array([[1, 2, 3, 4],\n",
    "                  [5, 6, 7, 8],\n",
    "                  [9, 10, 11, 12],\n",
    "                  [13, 14, 15, 16]])\n",
    "\n",
    "# 1. 提取第 2 行所有元素（注意：索引从 0 开始）\n",
    "row_2 = array[1, :]\n",
    "print(\"第 2 行所有元素：\", row_2)\n",
    "\n",
    "# 2. 提取第 3 列所有元素（注意：索引从 0 开始）\n",
    "col_3 = array[:, 2]\n",
    "print(\"第 3 列所有元素：\", col_3)\n",
    "\n",
    "# 3. 提取子数组（包含第 1、2 行和第 2、3 列）\n",
    "sub_array = array[0:2, 1:3]\n",
    "print(\"子数组（第 1、2 行和第 2、3 列）：\")\n",
    "print(sub_array)\n",
    "\n",
    "# 4. 将大于 10 的元素替换为 0，打印修改后的数组\n",
    "modified_array = array.copy()\n",
    "modified_array[modified_array > 10] = 0\n",
    "print(\"修改后（大于 10 的元素替换为 0）的数组：\")\n",
    "print(modified_array)"
   ],
   "outputs": [],
   "execution_count": null
  },
  {
   "metadata": {},
   "cell_type": "code",
   "outputs": [],
   "execution_count": null,
   "source": [
    "import numpy as np\n",
    "\n",
    "# 创建数组A：3x2的二维数组，元素为1到6\n",
    "array_a = np.arange(1, 7).reshape(3, 2)\n",
    "# 创建数组B：一维数组，元素为[10, 20]\n",
    "array_b = np.array([10, 20])\n",
    "\n",
    "print(\"数组A：\")\n",
    "print(array_a)\n",
    "print(\"数组B：\")\n",
    "print(array_b)\n",
    "\n",
    "# 1. 计算A和B的逐元素相加（利用广播）\n",
    "add_result = array_a + array_b\n",
    "print(\"\\n任务1：A和B逐元素相加结果：\")\n",
    "print(add_result)\n",
    "\n",
    "# 2. 计算A和B的逐元素相乘（利用广播）\n",
    "multiply_result = array_a * array_b\n",
    "print(\"\\n任务2：A和B逐元素相乘结果：\")\n",
    "print(multiply_result)\n",
    "\n",
    "# 3. 计算A的每一行与B的点积\n",
    "dot_result = np.dot(array_a, array_b)\n",
    "print(\"\\n任务3：A的每一行与B的点积结果：\")\n",
    "print(dot_result)"
   ],
   "id": "7e0bcc71cc69aa6d"
  }
 ],
 "metadata": {
  "kernelspec": {
   "display_name": "Python 3 (ipykernel)",
   "language": "python",
   "name": "python3"
  },
  "language_info": {
   "codemirror_mode": {
    "name": "ipython",
    "version": 3
   },
   "file_extension": ".py",
   "mimetype": "text/x-python",
   "name": "python",
   "nbconvert_exporter": "python",
   "pygments_lexer": "ipython3",
   "version": "3.9.9"
  }
 },
 "nbformat": 4,
 "nbformat_minor": 5
}
