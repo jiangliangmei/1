{
 "cells": [
  {
   "cell_type": "code",
   "execution_count": 1,
   "id": "04c05013-0473-42be-af66-5576d0c2f26b",
   "metadata": {},
   "outputs": [
    {
     "name": "stdout",
     "output_type": "stream",
     "text": [
      "原始数组：\n",
      "[[ 1  2  3  4]\n",
      " [ 5  6  7  8]\n",
      " [ 9 10 11 12]]\n",
      "形状：(3, 4)\n",
      "维度：2\n",
      "数据类型：int32\n",
      "\n",
      "乘以2后的数组：\n",
      "[[ 2  4  6  8]\n",
      " [10 12 14 16]\n",
      " [18 20 22 24]]\n",
      "\n",
      "重塑为4x3后的数组：\n",
      "[[ 1  2  3]\n",
      " [ 4  5  6]\n",
      " [ 7  8  9]\n",
      " [10 11 12]]\n"
     ]
    }
   ],
   "source": [
    "import numpy as np\n",
    "\n",
    "# 创建3x4的二维数组，元素为1到12\n",
    "arr = np.arange(1, 13).reshape(3, 4)\n",
    "\n",
    "# 1. 打印数组的形状、维度和数据类型\n",
    "print(\"原始数组：\")\n",
    "print(arr)\n",
    "print(f\"形状：{arr.shape}\")\n",
    "print(f\"维度：{arr.ndim}\")\n",
    "print(f\"数据类型：{arr.dtype}\")\n",
    "\n",
    "# 2. 将数组元素乘以2\n",
    "arr_x2 = arr * 2\n",
    "print(\"\\n乘以2后的数组：\")\n",
    "print(arr_x2)\n",
    "\n",
    "# 3. 将数组重塑为4x3的形状\n",
    "arr_reshaped = arr.reshape(4, 3)\n",
    "print(\"\\n重塑为4x3后的数组：\")\n",
    "print(arr_reshaped)"
   ]
  }
 ],
 "metadata": {
  "kernelspec": {
   "display_name": "Python 3 (ipykernel)",
   "language": "python",
   "name": "python3"
  },
  "language_info": {
   "codemirror_mode": {
    "name": "ipython",
    "version": 3
   },
   "file_extension": ".py",
   "mimetype": "text/x-python",
   "name": "python",
   "nbconvert_exporter": "python",
   "pygments_lexer": "ipython3",
   "version": "3.9.9"
  }
 },
 "nbformat": 4,
 "nbformat_minor": 5
}
