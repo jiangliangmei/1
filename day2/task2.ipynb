{
 "cells": [
  {
   "cell_type": "code",
   "execution_count": 1,
   "id": "0bbafe72-7823-454f-a0b3-2e2e6b5ac1d8",
   "metadata": {},
   "outputs": [
    {
     "name": "stdout",
     "output_type": "stream",
     "text": [
      "第 2 行所有元素： [5 6 7 8]\n",
      "第 3 列所有元素： [ 3  7 11 15]\n",
      "子数组（第 1、2 行和第 2、3 列）：\n",
      "[[2 3]\n",
      " [6 7]]\n",
      "修改后（大于 10 的元素替换为 0）的数组：\n",
      "[[ 1  2  3  4]\n",
      " [ 5  6  7  8]\n",
      " [ 9 10  0  0]\n",
      " [ 0  0  0  0]]\n"
     ]
    }
   ],
   "source": [
    "import numpy as np\n",
    "\n",
    "# 定义 4x4 数组\n",
    "array = np.array([[1, 2, 3, 4],\n",
    "                  [5, 6, 7, 8],\n",
    "                  [9, 10, 11, 12],\n",
    "                  [13, 14, 15, 16]])\n",
    "\n",
    "# 1. 提取第 2 行所有元素（注意：索引从 0 开始）\n",
    "row_2 = array[1, :]\n",
    "print(\"第 2 行所有元素：\", row_2)\n",
    "\n",
    "# 2. 提取第 3 列所有元素（注意：索引从 0 开始）\n",
    "col_3 = array[:, 2]\n",
    "print(\"第 3 列所有元素：\", col_3)\n",
    "\n",
    "# 3. 提取子数组（包含第 1、2 行和第 2、3 列）\n",
    "sub_array = array[0:2, 1:3]\n",
    "print(\"子数组（第 1、2 行和第 2、3 列）：\")\n",
    "print(sub_array)\n",
    "\n",
    "# 4. 将大于 10 的元素替换为 0，打印修改后的数组\n",
    "modified_array = array.copy()\n",
    "modified_array[modified_array > 10] = 0\n",
    "print(\"修改后（大于 10 的元素替换为 0）的数组：\")\n",
    "print(modified_array)"
   ]
  },
  {
   "cell_type": "code",
   "execution_count": null,
   "id": "932050f5-dbd7-4377-8d88-e2c25e16e5af",
   "metadata": {},
   "outputs": [],
   "source": []
  }
 ],
 "metadata": {
  "kernelspec": {
   "display_name": "Python 3 (ipykernel)",
   "language": "python",
   "name": "python3"
  },
  "language_info": {
   "codemirror_mode": {
    "name": "ipython",
    "version": 3
   },
   "file_extension": ".py",
   "mimetype": "text/x-python",
   "name": "python",
   "nbconvert_exporter": "python",
   "pygments_lexer": "ipython3",
   "version": "3.9.9"
  }
 },
 "nbformat": 4,
 "nbformat_minor": 5
}
