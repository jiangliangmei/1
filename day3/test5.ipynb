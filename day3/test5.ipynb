{
 "cells": [
  {
   "cell_type": "code",
   "execution_count": 1,
   "id": "3a005438",
   "metadata": {},
   "outputs": [
    {
     "name": "stdout",
     "output_type": "stream",
     "text": [
      "平均啤酒消耗量最多的大陆是： EU\n",
      "\n",
      "每个大陆红酒消耗的描述性统计值：\n",
      "           count        mean        std  min   25%    50%     75%    max\n",
      "continent                                                               \n",
      "AF          53.0   16.264151  38.846419  0.0   1.0    2.0   13.00  233.0\n",
      "AS          44.0    9.068182  21.667034  0.0   0.0    1.0    8.00  123.0\n",
      "EU          45.0  142.222222  97.421738  0.0  59.0  128.0  195.00  370.0\n",
      "OC          16.0   35.625000  64.555790  0.0   1.0    8.5   23.25  212.0\n",
      "SA          12.0   62.416667  88.620189  1.0   3.0   12.0   98.50  221.0\n",
      "\n",
      "每个大陆每种酒类别的消耗平均值：\n",
      "           beer_servings  spirit_servings  wine_servings\n",
      "continent                                               \n",
      "AF             61.471698        16.339623      16.264151\n",
      "AS             37.045455        60.840909       9.068182\n",
      "EU            193.777778       132.555556     142.222222\n",
      "OC             89.687500        58.437500      35.625000\n",
      "SA            175.083333       114.750000      62.416667\n"
     ]
    }
   ],
   "source": [
    "import pandas as pd\n",
    "import numpy as np\n",
    "\n",
    "# 读取CSV文件到DataFrame\n",
    "file_path = \"C:\\\\Users\\\\HONOR\\\\Desktop\\\\drinks.csv\"\n",
    "df = pd.read_csv(file_path)\n",
    "# 按大陆分组并计算每个大陆的平均啤酒消耗量\n",
    "beer_avg_by_continent = df.groupby('continent')['beer_servings'].mean()\n",
    "max_beer_continent = beer_avg_by_continent.idxmax()\n",
    "print(\"平均啤酒消耗量最多的大陆是：\", max_beer_continent)\n",
    "# 对每个大陆的红酒消耗计算描述性统计值\n",
    "wine_stats_by_continent = df.groupby('continent')['wine_servings'].describe()\n",
    "print(\"\\n每个大陆红酒消耗的描述性统计值：\")\n",
    "print(wine_stats_by_continent)\n",
    "# 对每个大陆每种酒类别的消耗量计算平均值\n",
    "alcohol_avg_by_continent = df.groupby('continent')[['beer_servings', 'spirit_servings', 'wine_servings']].mean()\n",
    "print(\"\\n每个大陆每种酒类别的消耗平均值：\")\n",
    "print(alcohol_avg_by_continent)"
   ]
  },
  {
   "cell_type": "code",
   "execution_count": null,
   "id": "c5869577",
   "metadata": {},
   "outputs": [],
   "source": []
  }
 ],
 "metadata": {
  "kernelspec": {
   "display_name": "Python 3 (ipykernel)",
   "language": "python",
   "name": "python3"
  },
  "language_info": {
   "codemirror_mode": {
    "name": "ipython",
    "version": 3
   },
   "file_extension": ".py",
   "mimetype": "text/x-python",
   "name": "python",
   "nbconvert_exporter": "python",
   "pygments_lexer": "ipython3",
   "version": "3.11.5"
  }
 },
 "nbformat": 4,
 "nbformat_minor": 5
}
