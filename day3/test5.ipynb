{
 "cells": [
  {
   "cell_type": "code",
   "execution_count": null,
   "id": "e88a1b9b-d494-4b93-856c-cfca3587aa72",
   "metadata": {},
   "outputs": [],
   "source": [
    "import pandas as pd\n",
    "import numpy as np\n",
    "\n",
    "# 读取CSV文件到DataFrame\n",
    "file_path = \"C:\\\\Users\\\\HONOR\\\\Desktop\\\\drinks.csv\"\n",
    "df = pd.read_csv(file_path)\n",
    "# 按大陆分组并计算每个大陆的平均啤酒消耗量\n",
    "beer_avg_by_continent = df.groupby('continent')['beer_servings'].mean()\n",
    "max_beer_continent = beer_avg_by_continent.idxmax()\n",
    "print(\"平均啤酒消耗量最多的大陆是：\", max_beer_continent)\n",
    "# 对每个大陆的红酒消耗计算描述性统计值\n",
    "wine_stats_by_continent = df.groupby('continent')['wine_servings'].describe()\n",
    "print(\"\\n每个大陆红酒消耗的描述性统计值：\")\n",
    "print(wine_stats_by_continent)\n",
    "# 对每个大陆每种酒类别的消耗量计算平均值\n",
    "alcohol_avg_by_continent = df.groupby('continent')[['beer_servings', 'spirit_servings', 'wine_servings']].mean()\n",
    "print(\"\\n每个大陆每种酒类别的消耗平均值：\")\n",
    "print(alcohol_avg_by_continent)\n"
   ]
  }
 ],
 "metadata": {
  "kernelspec": {
   "display_name": "Python 3 (ipykernel)",
   "language": "python",
   "name": "python3"
  },
  "language_info": {
   "codemirror_mode": {
    "name": "ipython",
    "version": 3
   },
   "file_extension": ".py",
   "mimetype": "text/x-python",
   "name": "python",
   "nbconvert_exporter": "python",
   "pygments_lexer": "ipython3",
   "version": "3.9.9"
  }
 },
 "nbformat": 4,
 "nbformat_minor": 5
}
