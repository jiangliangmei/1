{
 "cells": [
  {
   "cell_type": "code",
   "execution_count": 2,
   "id": "21ccc3c7-93ee-4c3a-9de1-3d7143f16179",
   "metadata": {},
   "outputs": [],
   "source": [
    "import pandas as pd\n",
    "import numpy as np\n",
    "\n",
    "# 创建包含指定数据的字典\n",
    "data = {\n",
    "    'Student_ID': [1, 2, 3, 4, 5],\n",
    "    'Name': ['Alice', 'Bob', 'Charlie', 'David', None],  # 包含一个空值\n",
    "    'Score': [85, 92, None, 78, 95],  # 包含一个空值\n",
    "    'Grade': ['A', 'A', 'B', 'C', 'A']\n",
    "}\n",
    "\n",
    "# 将字典转换为 DataFrame\n",
    "df = pd.DataFrame(data)\n",
    "\n",
    "# 使用 pd.DataFrame.to_csv() 创建 CSV 文件\n",
    "file_path = \"C:\\\\Users\\\\HONOR\\\\Desktop\\\\students.csv\"\n",
    "df.to_csv(file_path, index=False)  # 设置 index=False 以避免写入索引列"
   ]
  },
  {
   "cell_type": "code",
   "execution_count": 3,
   "id": "fc708623-72b8-4a36-8051-1ddb8912bd60",
   "metadata": {},
   "outputs": [
    {
     "name": "stdout",
     "output_type": "stream",
     "text": [
      "读取的 DataFrame 前 3 行：\n",
      "   Student_ID     Name  Score Grade\n",
      "0           1    Alice   85.0     A\n",
      "1           2      Bob   92.0     A\n",
      "2           3  Charlie    NaN     B\n",
      "\n",
      "处理后的 DataFrame 已保存为 students_cleaned.csv\n"
     ]
    }
   ],
   "source": [
    "# 读取 CSV 文件\n",
    "read_df = pd.read_csv(file_path)\n",
    "\n",
    "# 打印前 3 行\n",
    "print(\"读取的 DataFrame 前 3 行：\")\n",
    "print(read_df.head(3))\n",
    "\n",
    "# 填充 Score 列的缺失值为平均分\n",
    "score_mean = read_df['Score'].mean()\n",
    "read_df['Score'].fillna(score_mean, inplace=True)\n",
    "\n",
    "# 填充 Name 列的缺失值为 \"Unknown\"\n",
    "read_df['Name'].fillna(\"Unknown\", inplace=True)\n",
    "\n",
    "# 将处理后的 DataFrame 保存为新的 CSV 文件\n",
    "cleaned_file_path = \"C:\\\\Users\\\\HONOR\\\\Desktop\\\\students_cleaned.csv\"\n",
    "read_df.to_csv(cleaned_file_path, index=False)\n",
    "\n",
    "print(\"\\n处理后的 DataFrame 已保存为 students_cleaned.csv\")"
   ]
  },
  {
   "cell_type": "code",
   "execution_count": null,
   "id": "319555c9-94ce-4611-a43c-546076ae4c63",
   "metadata": {},
   "outputs": [],
   "source": []
  }
 ],
 "metadata": {
  "kernelspec": {
   "display_name": "anaconda-2024.02-py310",
   "language": "python",
   "name": "conda-env-anaconda-2024.02-py310-py"
  },
  "language_info": {
   "codemirror_mode": {
    "name": "ipython",
    "version": 3
   },
   "file_extension": ".py",
   "mimetype": "text/x-python",
   "name": "python",
   "nbconvert_exporter": "python",
   "pygments_lexer": "ipython3",
   "version": "3.10.14"
  }
 },
 "nbformat": 4,
 "nbformat_minor": 5
}
